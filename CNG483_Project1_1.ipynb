{
  "nbformat": 4,
  "nbformat_minor": 0,
  "metadata": {
    "colab": {
      "name": "CNG483_Project1_1.ipynb",
      "provenance": [],
      "collapsed_sections": [],
      "machine_shape": "hm",
      "include_colab_link": true
    },
    "kernelspec": {
      "name": "python3",
      "display_name": "Python 3"
    }
  },
  "cells": [
    {
      "cell_type": "markdown",
      "metadata": {
        "id": "view-in-github",
        "colab_type": "text"
      },
      "source": [
        "<a href=\"https://colab.research.google.com/github/nisanuro/CNG483-Project1/blob/master/CNG483_Project1_1.ipynb\" target=\"_parent\"><img src=\"https://colab.research.google.com/assets/colab-badge.svg\" alt=\"Open In Colab\"/></a>"
      ]
    },
    {
      "cell_type": "code",
      "metadata": {
        "id": "iKqrsSGx5Upz",
        "colab_type": "code",
        "colab": {}
      },
      "source": [
        "import os\n",
        "import numpy as np\n",
        "import matplotlib.pyplot as plt\n",
        "import cv2\n",
        "from collections import Counter\n",
        "from sklearn.neighbors import KNeighborsClassifier\n",
        "from sklearn  import preprocessing, metrics\n",
        "from google.colab import output\n",
        "from google.colab import drive\n",
        "import concurrent.futures\n",
        "drive.mount('/content/drive')"
      ],
      "execution_count": 0,
      "outputs": []
    },
    {
      "cell_type": "markdown",
      "metadata": {
        "id": "qt3g2HQ4WSBa",
        "colab_type": "text"
      },
      "source": [
        "### **Reading images**"
      ]
    },
    {
      "cell_type": "code",
      "metadata": {
        "id": "MPLNqTff7eZL",
        "colab_type": "code",
        "colab": {}
      },
      "source": [
        "def read_images(path):\n",
        "    images = []\n",
        "\n",
        "    for filename in os.listdir(path):\n",
        "        img=cv2.imread(os.path.join(image_path, filename),cv2.IMREAD_COLOR)\n",
        "        img = cv2.cvtColor(img, cv2.COLOR_RGB2BGR)\n",
        "        images.append(img)\n",
        "\n",
        "    return images"
      ],
      "execution_count": 0,
      "outputs": []
    },
    {
      "cell_type": "markdown",
      "metadata": {
        "id": "7dzBlg5-yjye",
        "colab_type": "text"
      },
      "source": [
        "### **Histogram for single channel**"
      ]
    },
    {
      "cell_type": "code",
      "metadata": {
        "id": "aQuAl6bTLQa0",
        "colab_type": "code",
        "colab": {}
      },
      "source": [
        "def histogram(image,b):\n",
        "    bins = np.array([i for i in range(0, 256, int(256/b))])\n",
        "    image = np.array(image).flatten()\n",
        "    inds = np.digitize(image,bins, right=False)\n",
        "    temp = np.array([(inds[i]-1) for i in range(0, len(inds))])\n",
        "    count = np.bincount(temp)\n",
        "    \n",
        "    hist = np.array([count[i] for i in range(0, len(count), int(256/b))])\n",
        "    if len(hist) != b:\n",
        "        z = np.zeros(b-len(hist)).astype('int64')\n",
        "        hist = np.concatenate((hist, z))\n",
        "\n",
        "    return hist\n",
        "  "
      ],
      "execution_count": 0,
      "outputs": []
    },
    {
      "cell_type": "markdown",
      "metadata": {
        "id": "T33ny9QzysyY",
        "colab_type": "text"
      },
      "source": [
        "### **Color histogram**"
      ]
    },
    {
      "cell_type": "code",
      "metadata": {
        "id": "7A7dK6V7z1aG",
        "colab_type": "code",
        "colab": {}
      },
      "source": [
        "def color_histogram(img, b):\n",
        "    chans = cv2.split(img)\n",
        "    colors = (\"b\", \"g\", \"r\")\n",
        "\n",
        "    features = []\n",
        "   \n",
        "    for (chan, color) in zip(chans, colors):\n",
        "        if color == 'b':\n",
        "            bf = histogram(chan, b)\n",
        "        elif color == 'g':\n",
        "            gf = histogram(chan, b)\n",
        "        else:\n",
        "            rf = histogram(chan, b)\n",
        "\n",
        "    color_hist = np.vstack(np.meshgrid(bf,gf,rf)).reshape(3,-1).T    \n",
        "    color_hist = color_hist.sum(axis=1)\n",
        "    color_hist = np.array(color_hist)\n",
        "\n",
        "    return color_hist"
      ],
      "execution_count": 0,
      "outputs": []
    },
    {
      "cell_type": "markdown",
      "metadata": {
        "id": "ed16MijEy-Ld",
        "colab_type": "text"
      },
      "source": [
        "### **Dividing image into grid**"
      ]
    },
    {
      "cell_type": "code",
      "metadata": {
        "id": "k25Sm1YNUhz3",
        "colab_type": "code",
        "colab": {}
      },
      "source": [
        "def split_image_into_grids(image, grid):\n",
        "\n",
        "    grids = []\n",
        "    \n",
        "    height=image.shape[0]\n",
        "    width=image.shape[1]\n",
        "\n",
        "    M = int(np.round(height/grid))\n",
        "    N = int(np.round(width/grid))\n",
        "    \n",
        "    for y in range(0, height, M):\n",
        "        for x in range(0, width, N):\n",
        "            y1 = y + M\n",
        "            x1 = x + N\n",
        "            grids.append(image[y:y+M, x:x+N])\n",
        "            \n",
        "\n",
        "    return np.array(grids)\n",
        "    "
      ],
      "execution_count": 0,
      "outputs": []
    },
    {
      "cell_type": "markdown",
      "metadata": {
        "id": "TC8wOmV_zIWY",
        "colab_type": "text"
      },
      "source": [
        "### **Creating dataset from files**"
      ]
    },
    {
      "cell_type": "code",
      "metadata": {
        "id": "2W-H9Cem5nzr",
        "colab_type": "code",
        "colab": {}
      },
      "source": [
        "def create_dataset(path):\n",
        "    print(\"Loading dataset\")\n",
        "    class_paths = []\n",
        "    images = []\n",
        "    labels = []\n",
        "\n",
        "    with os.scandir(path) as itr: \n",
        "        for subdir in itr : \n",
        "            if subdir.is_dir():\n",
        "                p = path + '/' + subdir.name\n",
        "                class_paths.append(p)\n",
        "    c = 0\n",
        "    for p in class_paths:\n",
        "        for filename in os.listdir(p):\n",
        "            c += 1\n",
        "            print(\"data: \", c)\n",
        "            if filename.endswith(\".jpg\"):\n",
        "                isNumpy = False\n",
        "                labels.append(os.path.basename(os.path.normpath(p))) \n",
        "                img = cv2.imread(os.path.join(p, filename))\n",
        "                if img is not None:\n",
        "                    images.append(cv2.cvtColor(img, cv2.COLOR_BGR2RGB))\n",
        "                \n",
        "    return images, labels\n"
      ],
      "execution_count": 0,
      "outputs": []
    },
    {
      "cell_type": "markdown",
      "metadata": {
        "id": "j-7uEj-mzjQj",
        "colab_type": "text"
      },
      "source": [
        "### **Creating (Image,Label) tuple**"
      ]
    },
    {
      "cell_type": "code",
      "metadata": {
        "id": "Al2hmmyvk9E-",
        "colab_type": "code",
        "colab": {}
      },
      "source": [
        "def create_tuples(images, labels):\n",
        "    imagelabels = []\n",
        "\n",
        "    for i,l in zip(images, labels):\n",
        "        imagelabels.append((i,l))\n",
        "    \n",
        "    return imagelabels"
      ],
      "execution_count": 0,
      "outputs": []
    },
    {
      "cell_type": "markdown",
      "metadata": {
        "id": "pbQvcsqhzQMo",
        "colab_type": "text"
      },
      "source": [
        "### **Feature extraction**"
      ]
    },
    {
      "cell_type": "code",
      "metadata": {
        "id": "-sEAuMwLUJHV",
        "colab_type": "code",
        "colab": {}
      },
      "source": [
        "def threaded_feature_extraction(imageslabels, grid, bin, isRGB):\n",
        "    print(\"feature extraction\")\n",
        "    features = []\n",
        "    with concurrent.futures.ThreadPoolExecutor() as executor:\n",
        "        futuretoimage = {executor.submit(feature_extract_single, imagelabel, grid, bin, isRGB): imagelabel for imagelabel in imageslabels}\n",
        "        counter = 0\n",
        "        for future in concurrent.futures.as_completed(futuretoimage):\n",
        "            counter += 1        \n",
        "            print(\"IMAGE : \", counter)\n",
        "\n",
        "            features.append(future.result())\n",
        "\n",
        "    imageF = []\n",
        "    imageL = []\n",
        "    for (i,l) in features:\n",
        "        imageF.append(i)\n",
        "        imageL.append(l)\n",
        "\n",
        "    return imageF, imageL\n",
        "\n",
        "def feature_extract_single(imagelabel, grid, b, isRGB):\n",
        "    image = imagelabel[0]\n",
        "    label = imagelabel[1]\n",
        "\n",
        "    i = cv2.resize(image, (256, 256))\n",
        "    i = cv2.cvtColor(i, cv2.COLOR_BGR2RGB)\n",
        "    grid_hists = []\n",
        "    grids = split_image_into_grids(i, grid)\n",
        "\n",
        "    for i in grids:\n",
        "        if(isRGB):\n",
        "            grid_hists.append(color_histogram(i, b))\n",
        "        else:\n",
        "            i = cv2.cvtColor(i, cv2.COLOR_RGB2GRAY)\n",
        "            grid_hists.append(histogram(i, b))\n",
        "    \n",
        "    # Concatenation\n",
        "    grids_flat = np.array(grid_hists).flatten()\n",
        "\n",
        "    grids_flat = grids_flat.reshape(1, len(grids_flat))\n",
        "    normalized = preprocessing.normalize(grids_flat, norm='l1', axis=1, copy=False)\n",
        "    normalized = np.array(normalized).flatten()    \n",
        "\n",
        "    return (normalized, label)\n",
        "\n",
        "    \n"
      ],
      "execution_count": 0,
      "outputs": []
    },
    {
      "cell_type": "markdown",
      "metadata": {
        "id": "yAgShxR8zch7",
        "colab_type": "text"
      },
      "source": [
        "### **KNN classification**"
      ]
    },
    {
      "cell_type": "code",
      "metadata": {
        "id": "YIqgS5cDtZLz",
        "colab_type": "code",
        "colab": {}
      },
      "source": [
        "def classification(trainI, trainL, testI, testL, k):\n",
        "    print(\"classification\")\n",
        "\n",
        "    model = KNeighborsClassifier(n_neighbors=k, metric='euclidean', algorithm='auto', n_jobs=-1)\n",
        "    model.fit(trainI, trainL)\n",
        "    acc = model.score(testI, testL)\n",
        "    print(\"Accuracy: \", acc*100)\n",
        "\n",
        "    return model"
      ],
      "execution_count": 0,
      "outputs": []
    },
    {
      "cell_type": "markdown",
      "metadata": {
        "id": "vh1HomM_z-ZF",
        "colab_type": "text"
      },
      "source": [
        "### **Main**"
      ]
    },
    {
      "cell_type": "code",
      "metadata": {
        "id": "IHvhBr049Ouu",
        "colab_type": "code",
        "colab": {}
      },
      "source": [
        "if __name__ == \"__main__\":\n",
        "    \n",
        "    test_path = \"/content/drive/My Drive/CNG483-Project 1/TestSet\"\n",
        "    train_path = \"/content/drive/My Drive/CNG483-Project 1/TrainingSet\"\n",
        "    validation_path = \"/content/drive/My Drive/CNG483-Project 1/ValidationSet\"\n",
        "\n",
        "    \n",
        "    testI, testL = create_dataset(test_path)\n",
        "    trainI, trainL = create_dataset(train_path)\n",
        "    validationI, validationL = create_dataset(validation_path)    "
      ],
      "execution_count": 0,
      "outputs": []
    },
    {
      "cell_type": "code",
      "metadata": {
        "id": "CYF1vpZBr8LG",
        "colab_type": "code",
        "colab": {}
      },
      "source": [
        "    # grid --> 1, 2, 4\n",
        "    # bins --> 1, 128, 256\n",
        "    # k --> 1, 5, 10\n",
        "    # isRGB --> True, False\n",
        "    \n",
        "    grid = 4\n",
        "    bins = 40\n",
        "    isRGB = True\n",
        "    k = 5\n",
        "\n",
        "    # In order not to lose order, sending images and labels as tuples\n",
        "    trainI, trainL = threaded_feature_extraction(create_tuples(trainI, trainL), grid, bins, isRGB)\n",
        "    validationI, validationL = threaded_feature_extraction(create_tuples(validationI, validationL), grid, bins, isRGB)\n",
        "    testI, testL = threaded_feature_extraction(create_tuples(testI, testL), grid, bins, isRGB)"
      ],
      "execution_count": 0,
      "outputs": []
    },
    {
      "cell_type": "code",
      "metadata": {
        "id": "QvOWYCYgYdCt",
        "colab_type": "code",
        "outputId": "28330232-1646-47f5-97cc-77901b7f5db0",
        "colab": {
          "base_uri": "https://localhost:8080/",
          "height": 34
        }
      },
      "source": [
        "    model = classification(trainI, trainL, validationI, validationL, k)\n"
      ],
      "execution_count": 0,
      "outputs": [
        {
          "output_type": "stream",
          "text": [
            "classification\n"
          ],
          "name": "stdout"
        }
      ]
    },
    {
      "cell_type": "code",
      "metadata": {
        "id": "U-cpOuqwI6hJ",
        "colab_type": "code",
        "colab": {}
      },
      "source": [
        "    acc = model.score(testI, testL)\n",
        "    print(\"Accuracy: \", acc*100)\n",
        "\n",
        "    output.eval_js('new Audio(\"https://upload.wikimedia.org/wikipedia/commons/0/05/Beep-09.ogg\").play()')"
      ],
      "execution_count": 0,
      "outputs": []
    }
  ]
}