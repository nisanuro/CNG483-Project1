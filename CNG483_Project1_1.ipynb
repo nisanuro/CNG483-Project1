{
  "nbformat": 4,
  "nbformat_minor": 0,
  "metadata": {
    "colab": {
      "name": "CNG483_Project1_1.ipynb",
      "provenance": [],
      "collapsed_sections": [],
      "machine_shape": "hm",
      "include_colab_link": true
    },
    "kernelspec": {
      "name": "python3",
      "display_name": "Python 3"
    }
  },
  "cells": [
    {
      "cell_type": "markdown",
      "metadata": {
        "id": "view-in-github",
        "colab_type": "text"
      },
      "source": [
        "<a href=\"https://colab.research.google.com/github/nisanuro/CNG483-Project1/blob/master/CNG483_Project1_1.ipynb\" target=\"_parent\"><img src=\"https://colab.research.google.com/assets/colab-badge.svg\" alt=\"Open In Colab\"/></a>"
      ]
    },
    {
      "cell_type": "code",
      "metadata": {
        "id": "iKqrsSGx5Upz",
        "colab_type": "code",
        "outputId": "df6ccc30-dbe9-4f6e-c61b-6ec4905c812d",
        "colab": {
          "base_uri": "https://localhost:8080/",
          "height": 35
        }
      },
      "source": [
        "import os\n",
        "import numpy as np\n",
        "import matplotlib.pyplot as plt\n",
        "import cv2\n",
        "import pandas as pd\n",
        "from collections import Counter\n",
        "from sklearn.neighbors import KNeighborsClassifier\n",
        "from sklearn import preprocessing\n",
        "from google.colab import output\n",
        "from google.colab import drive\n",
        "import concurrent.futures\n",
        "drive.mount('/content/drive')"
      ],
      "execution_count": 1,
      "outputs": [
        {
          "output_type": "stream",
          "text": [
            "Drive already mounted at /content/drive; to attempt to forcibly remount, call drive.mount(\"/content/drive\", force_remount=True).\n"
          ],
          "name": "stdout"
        }
      ]
    },
    {
      "cell_type": "code",
      "metadata": {
        "id": "MPLNqTff7eZL",
        "colab_type": "code",
        "colab": {}
      },
      "source": [
        "def read_images(path):\n",
        "    images = []\n",
        "\n",
        "    for filename in os.listdir(path):\n",
        "        img=cv2.imread(os.path.join(image_path, filename),cv2.IMREAD_COLOR)\n",
        "        img = cv2.cvtColor(img, cv2.COLOR_RGB2BGR)\n",
        "        images.append(img)\n",
        "\n",
        "    return images"
      ],
      "execution_count": 0,
      "outputs": []
    },
    {
      "cell_type": "code",
      "metadata": {
        "id": "aQuAl6bTLQa0",
        "colab_type": "code",
        "colab": {}
      },
      "source": [
        "\"\"\"\n",
        "def histogram(image, b):\n",
        "    bins = []\n",
        "    width = int(256/b)\n",
        "\n",
        "    for low in range(0, b * width, width):\n",
        "        bins.append((low, low+width))\n",
        "\n",
        "    hist = np.zeros(b).astype('int32')\n",
        "    image = np.array(image).flatten()\n",
        "\n",
        "    for value in image:\n",
        "        for i in range(0, len(bins)):\n",
        "            if (bins[i][0] <= value < bins[i][1]):\n",
        "                hist[i] += 1\n",
        "    \n",
        "    return hist\n",
        "\"\"\"\n",
        "\n",
        "def histogram(image,b):\n",
        "    bins = np.array([i for i in range(0, 256, int(256/b))])\n",
        "    image = np.array(image).flatten()\n",
        "    inds = np.digitize(image,bins, right=False)\n",
        "    temp = np.array([(inds[i]-1) for i in range(0, len(inds))])\n",
        "    count = np.bincount(temp)\n",
        "    \n",
        "    hist = np.array([count[i] for i in range(0, len(count), int(256/b))])\n",
        "    if len(hist) != b:\n",
        "        z = np.zeros(b-len(hist)).astype('int64')\n",
        "        hist = np.concatenate((hist, z))\n",
        "\n",
        "    #print(\"hist: \",  len(hist), \"hist shape: \" , hist.shape)\n",
        "    #count = count[::int(256/b)]\n",
        "    #print(count)\n",
        "    #print(bins)\n",
        "    return hist\n",
        "  "
      ],
      "execution_count": 0,
      "outputs": []
    },
    {
      "cell_type": "code",
      "metadata": {
        "id": "nBO1TjTqFAlg",
        "colab_type": "code",
        "colab": {}
      },
      "source": [
        "def ndmesh(*xi,**kwargs):\n",
        "    if len(xi) < 2:\n",
        "        msg = 'meshgrid() takes 2 or more arguments (%d given)' % int(len(xi) > 0)\n",
        "        raise ValueError(msg)\n",
        "\n",
        "    args = np.atleast_1d(*xi)\n",
        "    ndim = len(args)\n",
        "    copy_ = kwargs.get('copy', True)\n",
        "\n",
        "    s0 = (1,) * ndim\n",
        "    output = [x.reshape(s0[:i] + (-1,) + s0[i + 1::]) for i, x in enumerate(args)]\n",
        "\n",
        "    shape = [x.size for x in output]\n",
        "\n",
        "    # Return the full N-D matrix (not only the 1-D vector)\n",
        "    if copy_:\n",
        "        mult_fact = np.ones(shape, dtype=int)\n",
        "        return [x * mult_fact for x in output]\n",
        "    else:\n",
        "        return np.broadcast_arrays(*output)"
      ],
      "execution_count": 0,
      "outputs": []
    },
    {
      "cell_type": "code",
      "metadata": {
        "id": "7A7dK6V7z1aG",
        "colab_type": "code",
        "colab": {}
      },
      "source": [
        "def color_histogram(img, b):\n",
        "    chans = cv2.split(img)\n",
        "    colors = (\"b\", \"g\", \"r\")\n",
        "\n",
        "    features = []\n",
        "   \n",
        "    for (chan, color) in zip(chans, colors):\n",
        "        if color == 'b':\n",
        "            bf = histogram(chan, b)\n",
        "        elif color == 'g':\n",
        "            gf = histogram(chan, b)\n",
        "        else:\n",
        "            rf = histogram(chan, b)\n",
        "    \"\"\"\n",
        "    # combination of blue and red channel bins\n",
        "    temp = np.transpose([np.tile(bf, len(gf)), np.repeat(gf, len(bf))])\n",
        "    \n",
        "    blue_green_hist = []    \n",
        "    for i in temp:\n",
        "        blue_green_hist.append(sum(i))\n",
        "\n",
        "    # same operation with red channel bins\n",
        "    temp = np.transpose([np.tile(rf, len(blue_green_hist)), np.repeat(blue_green_hist, len(rf))])\n",
        "    \"\"\"\n",
        "    #print(\"bf:  \", bf.shape)\n",
        "    #print(bf)\n",
        "    temp = np.vstack((ndmesh(bf,gf,rf))).reshape(3,-1).T \n",
        "    #print(\"temp:\", temp.shape)\n",
        "    #print(temp)\n",
        "    #color_hist = []    \n",
        "    color_hist = temp.sum(axis=1)\n",
        "    #for i in temp:\n",
        "    #    color_hist.append(sum(i))\n",
        "    color_hist = np.array(color_hist)\n",
        "    #print(\"color hist: \", color_hist.shape)\n",
        "    \n",
        "    return color_hist"
      ],
      "execution_count": 0,
      "outputs": []
    },
    {
      "cell_type": "code",
      "metadata": {
        "id": "AxkqIbpnHVmX",
        "colab_type": "code",
        "colab": {}
      },
      "source": [
        ""
      ],
      "execution_count": 0,
      "outputs": []
    },
    {
      "cell_type": "code",
      "metadata": {
        "id": "k25Sm1YNUhz3",
        "colab_type": "code",
        "colab": {}
      },
      "source": [
        "def split_image_into_grids(image, grid):\n",
        "\n",
        "    grids = []\n",
        "\n",
        "    height=image.shape[0]\n",
        "    width=image.shape[1]\n",
        "\n",
        "    M = height//grid\n",
        "    N = width//grid\n",
        "\n",
        "    for y in range(0, height, M):\n",
        "        for x in range(0, width, N):\n",
        "            y1 = y + M\n",
        "            x1 = x + N\n",
        "            grids.append(image[y:y+M, x:x+N])\n",
        "\n",
        "\n",
        "    #cv2.rectangle(image, (x, y), (x1, y1), (0, 255, 0))\n",
        "\n",
        "    #os.chdir(\"/content/drive/My Drive/SaveDeneme\")\n",
        "    #cv2.imwrite(\"im\" + str(i) + '_' + str(x) + '_' + str(y)+\".png\",tiles)\n",
        "    '''\n",
        "    plt.figure()\n",
        "    plt.imshow(grid) \n",
        "    plt.show()''' \n",
        "\n",
        "    return np.array(grids)\n",
        "\n",
        "     "
      ],
      "execution_count": 0,
      "outputs": []
    },
    {
      "cell_type": "code",
      "metadata": {
        "id": "2W-H9Cem5nzr",
        "colab_type": "code",
        "colab": {}
      },
      "source": [
        "def create_dataset(path):\n",
        "    print(\"create dataset\")\n",
        "    class_paths = []\n",
        "    images = []\n",
        "    labels = []\n",
        "\n",
        "    with os.scandir(path) as itr: \n",
        "        for subdir in itr : \n",
        "            if subdir.is_dir():\n",
        "                p = path + '/' + subdir.name\n",
        "                class_paths.append(p)\n",
        "    \n",
        "    for p in class_paths:\n",
        "        #print(p)\n",
        "        for filename in os.listdir(p):\n",
        "            if filename.endswith(\".jpg\"):\n",
        "                labels.append(os.path.basename(os.path.normpath(p)))                \n",
        "                img = cv2.imread(os.path.join(p, filename))\n",
        "\n",
        "                if img is not None:\n",
        "                    images.append(cv2.cvtColor(img, cv2.COLOR_BGR2RGB))\n",
        "   \n",
        "    return images, labels\n"
      ],
      "execution_count": 0,
      "outputs": []
    },
    {
      "cell_type": "code",
      "metadata": {
        "id": "-sEAuMwLUJHV",
        "colab_type": "code",
        "colab": {}
      },
      "source": [
        "def threaded_feature_extraction(imageslabels, grid, bin, isRGB):\n",
        "    print(\"feature extraction\")\n",
        "    features = []\n",
        "    with concurrent.futures.ThreadPoolExecutor() as executor:\n",
        "        futuretoimage = {executor.submit(feature_extract_single, imagelabel, grid, bin, isRGB): imagelabel for imagelabel in imageslabels}\n",
        "        counter = 0\n",
        "        for future in concurrent.futures.as_completed(futuretoimage):\n",
        "            features.append(future.result())\n",
        "            counter += 1\n",
        "            print(\"IMAGE : \", counter)\n",
        "    return features\n",
        "\n",
        "def feature_extract_single(imagelabel, grid, b, isRGB):\n",
        "    image = imagelabel[0]\n",
        "    label = imagelabel[1]\n",
        "    #print(label)\n",
        "    i = cv2.resize(image, (256, 256))\n",
        "    i = cv2.cvtColor(i, cv2.COLOR_BGR2RGB)\n",
        "    grid_hists = []\n",
        "    grids = split_image_into_grids(i, grid)\n",
        "    #print(\"grids: \")\n",
        "    #print(len(grids))\n",
        "    for i in grids:\n",
        "        if(isRGB):\n",
        "            grid_hists.append(color_histogram(i, b))\n",
        "        else:\n",
        "            i = cv2.cvtColor(i, cv2.COLOR_RGB2GRAY)\n",
        "            grid_hists.append(histogram(i, b))\n",
        "    '''\n",
        "    # Concatenation\n",
        "    grids_flat = np.array(grid_hists).flatten()\n",
        "    '''\n",
        "\n",
        "    # Sum\n",
        "    if grid != 1:\n",
        "        grids_flat = [ sum(x) for x in zip(*grid_hists) ]\n",
        "        grids_flat = np.array(grids_flat).flatten()\n",
        "        #print(\"grids: \", len(grids_flat))\n",
        "        \n",
        "    else:\n",
        "        grids_flat = np.array(grid_hists).flatten()\n",
        "        #print(\"grids: \", len(grid_hists))\n",
        "    \n",
        "    #grids_flat = preprocessing.normalize(grids_flat.reshape(1, -1), norm='l1')\n",
        "    return (grids_flat, label)\n",
        "\n",
        "    \n"
      ],
      "execution_count": 0,
      "outputs": []
    },
    {
      "cell_type": "code",
      "metadata": {
        "id": "35Ju2op6ipeH",
        "colab_type": "code",
        "outputId": "36f306c5-9b8b-40c5-954b-5ae318fea651",
        "colab": {
          "base_uri": "https://localhost:8080/",
          "height": 55
        }
      },
      "source": [
        "\"\"\"def feature_extraction(images, grid, bin, isRGB):\n",
        "    print(\"feature extraction\")\n",
        "    features = []\n",
        "    size = len(images)\n",
        "    for i, j in zip(images, range(size)):\n",
        "        print(j)\n",
        "        i = cv2.resize(i, (256, 256))\n",
        "        i = cv2.cvtColor(i, cv2.COLOR_BGR2RGB)\n",
        "        grids = split_image_into_grids(i, grid)\n",
        "\n",
        "        grid_hists = []\n",
        "\n",
        "        for i in grids:\n",
        "            if(isRGB):\n",
        "                grid_hists.append(color_histogram(i, bin))\n",
        "            else:\n",
        "                grid_hists.append(histogram(i, bin))\n",
        "        \n",
        "        # Concatenation\n",
        "        grids_flat = np.array(grid_hists).flatten()\n",
        "        \n",
        "        '''\n",
        "        # Sum\n",
        "        grids_flat = np.array(grid_hists)\n",
        "        grids_flat = np.sum(grids_flat, axis=0)\n",
        "        '''\n",
        "            \n",
        "        features.append(grids_flat)\n",
        "        \n",
        "    return features\"\"\"\n"
      ],
      "execution_count": 9,
      "outputs": [
        {
          "output_type": "execute_result",
          "data": {
            "text/plain": [
              "'def feature_extraction(images, grid, bin, isRGB):\\n    print(\"feature extraction\")\\n    features = []\\n    size = len(images)\\n    for i, j in zip(images, range(size)):\\n        print(j)\\n        i = cv2.resize(i, (256, 256))\\n        i = cv2.cvtColor(i, cv2.COLOR_BGR2RGB)\\n        grids = split_image_into_grids(i, grid)\\n\\n        grid_hists = []\\n\\n        for i in grids:\\n            if(isRGB):\\n                grid_hists.append(color_histogram(i, bin))\\n            else:\\n                grid_hists.append(histogram(i, bin))\\n        \\n        # Concatenation\\n        grids_flat = np.array(grid_hists).flatten()\\n        \\n        \\'\\'\\'\\n        # Sum\\n        grids_flat = np.array(grid_hists)\\n        grids_flat = np.sum(grids_flat, axis=0)\\n        \\'\\'\\'\\n            \\n        features.append(grids_flat)\\n        \\n    return features'"
            ]
          },
          "metadata": {
            "tags": []
          },
          "execution_count": 9
        }
      ]
    },
    {
      "cell_type": "code",
      "metadata": {
        "id": "YIqgS5cDtZLz",
        "colab_type": "code",
        "colab": {}
      },
      "source": [
        "def classification(trainI, trainL, testI, testL, k):\n",
        "    print(\"classification\")\n",
        "    model = KNeighborsClassifier(n_neighbors=k, metric='euclidean', algorithm='brute', n_jobs=-1)\n",
        "    model.fit(trainI, trainL)\n",
        "    acc = model.score(testI, testL)\n",
        "    print(acc)"
      ],
      "execution_count": 0,
      "outputs": []
    },
    {
      "cell_type": "code",
      "metadata": {
        "id": "IHvhBr049Ouu",
        "colab_type": "code",
        "outputId": "c8986b60-b3e6-436b-c263-66363d73139e",
        "colab": {
          "base_uri": "https://localhost:8080/",
          "height": 52
        }
      },
      "source": [
        "if __name__ == \"__main__\":\n",
        "\n",
        "    test_path = \"/content/drive/My Drive/CNG483-Project 1/TestSet\"\n",
        "    train_path = \"/content/drive/My Drive/CNG483-Project 1/TrainingSet\"\n",
        "    validation_path = \"/content/drive/My Drive/CNG483-Project 1/ValidationSet\"\n",
        "\n",
        "    \n",
        "    # testI, testL = create_dataset(test_path)\n",
        "    trainI, trainL = create_dataset(train_path)\n",
        "    validationI, validationL = create_dataset(validation_path)\n",
        "    \n",
        "    # grid --> 1, 2, 4\n",
        "    # bins --> 1, 128, 256\n",
        "    # k --> 1, 5, 10\n",
        "    # isRGB --> True, False\n",
        "\n",
        "    grid = 2\n",
        "    bins = 128\n",
        "    isRGB = True\n",
        "    k = 10"
      ],
      "execution_count": 11,
      "outputs": [
        {
          "output_type": "stream",
          "text": [
            "create dataset\n",
            "create dataset\n"
          ],
          "name": "stdout"
        }
      ]
    },
    {
      "cell_type": "code",
      "metadata": {
        "id": "CYF1vpZBr8LG",
        "colab_type": "code",
        "colab": {
          "base_uri": "https://localhost:8080/",
          "height": 372
        },
        "outputId": "2c4c90e5-8b6e-4487-af7f-2a76fe3eeda8"
      },
      "source": [
        "    imagelabels = []\n",
        "    for i,l in zip(trainI, trainL):\n",
        "        imagelabels.append((i,l))\n",
        "    trainI_f = threaded_feature_extraction(imagelabels, grid, bins, isRGB)\n",
        "    #trainI_f = threaded_feature_extraction(trainI, grid, bins, isRGB)\n",
        "    trainf = []\n",
        "    trainl = []\n",
        "    for (i,l) in trainI_f:\n",
        "        trainf.append(i)\n",
        "        trainl.append(l)\n",
        "\n",
        "    imagelabels = []\n",
        "    for i,l in zip(validationI, validationL):\n",
        "        imagelabels.append((i,l))\n",
        "    \n",
        "    validationI_f = threaded_feature_extraction(imagelabels, grid, bins, isRGB)\n",
        "    validationf = []\n",
        "    validationl = []\n",
        "    for (i,l) in validationI_f:      \n",
        "        validationf.append(i)\n",
        "        validationl.append(l)\n",
        "\n",
        "    #validationI_f = feature_extraction(validationI, grid, bins, isRGB)\n",
        "    \n",
        "    trainf = np.array(trainf)\n",
        "    trainl = np.array(trainl)\n",
        "    validationf = np.array(validationf)\n",
        "    validationl = np.array(validationl)\n"
      ],
      "execution_count": 0,
      "outputs": [
        {
          "output_type": "stream",
          "text": [
            "feature extraction\n",
            "IMAGE :  1\n",
            "IMAGE :  2\n",
            "IMAGE :  3\n",
            "IMAGE :  4\n",
            "IMAGE :  5\n",
            "IMAGE :  6\n",
            "IMAGE :  7\n",
            "IMAGE :  8\n",
            "IMAGE :  9\n",
            "IMAGE :  10\n",
            "IMAGE :  11\n",
            "IMAGE :  12\n",
            "IMAGE :  13\n",
            "IMAGE :  14\n",
            "IMAGE :  15\n",
            "IMAGE :  16\n",
            "IMAGE :  17\n",
            "IMAGE :  18\n",
            "IMAGE :  19\n"
          ],
          "name": "stdout"
        }
      ]
    },
    {
      "cell_type": "code",
      "metadata": {
        "id": "FKIbOE5zm3b0",
        "colab_type": "code",
        "colab": {}
      },
      "source": [
        "    validationf\n"
      ],
      "execution_count": 0,
      "outputs": []
    },
    {
      "cell_type": "code",
      "metadata": {
        "id": "koBFaE0HXaLZ",
        "colab_type": "code",
        "colab": {}
      },
      "source": [
        "    print(trainf.dtype)\n",
        "    print(validationf.dtype)\n",
        "    print(trainl.dtype)"
      ],
      "execution_count": 0,
      "outputs": []
    },
    {
      "cell_type": "code",
      "metadata": {
        "id": "QvOWYCYgYdCt",
        "colab_type": "code",
        "colab": {}
      },
      "source": [
        "    classification(trainf, trainl, validationf, validationl, k)\n",
        "    output.eval_js('new Audio(\"https://upload.wikimedia.org/wikipedia/commons/0/05/Beep-09.ogg\").play()')"
      ],
      "execution_count": 0,
      "outputs": []
    }
  ]
}