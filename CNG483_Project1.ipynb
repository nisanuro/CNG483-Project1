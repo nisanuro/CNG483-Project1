{
  "nbformat": 4,
  "nbformat_minor": 0,
  "metadata": {
    "colab": {
      "name": "CNG483-Project1.ipynb",
      "provenance": [],
      "authorship_tag": "ABX9TyMVk3wfak62nAY4fE8XqYfw",
      "include_colab_link": true
    },
    "kernelspec": {
      "name": "python3",
      "display_name": "Python 3"
    }
  },
  "cells": [
    {
      "cell_type": "markdown",
      "metadata": {
        "id": "view-in-github",
        "colab_type": "text"
      },
      "source": [
        "<a href=\"https://colab.research.google.com/github/nisanuro/CNG483-Project1/blob/master/CNG483_Project1.ipynb\" target=\"_parent\"><img src=\"https://colab.research.google.com/assets/colab-badge.svg\" alt=\"Open In Colab\"/></a>"
      ]
    },
    {
      "cell_type": "code",
      "metadata": {
        "id": "iKqrsSGx5Upz",
        "colab_type": "code",
        "colab": {
          "base_uri": "https://localhost:8080/",
          "height": 35
        },
        "outputId": "0bd6c565-41b0-4974-ebe2-a6eeb945bd0f"
      },
      "source": [
        "import os\n",
        "import numpy as np\n",
        "import matplotlib.pyplot as plt\n",
        "import cv2\n",
        "import pandas as pd\n",
        "from collections import Counter\n",
        "from google.colab import drive\n",
        "drive.mount('/content/drive')"
      ],
      "execution_count": 298,
      "outputs": [
        {
          "output_type": "stream",
          "text": [
            "Drive already mounted at /content/drive; to attempt to forcibly remount, call drive.mount(\"/content/drive\", force_remount=True).\n"
          ],
          "name": "stdout"
        }
      ]
    },
    {
      "cell_type": "code",
      "metadata": {
        "id": "MPLNqTff7eZL",
        "colab_type": "code",
        "colab": {}
      },
      "source": [
        "def read_images(path):\n",
        "    images = []\n",
        "\n",
        "    for filename in os.listdir(path):\n",
        "        img=cv2.imread(os.path.join(image_path, filename),cv2.IMREAD_COLOR)\n",
        "        img = cv2.cvtColor(img, cv2.COLOR_RGB2BGR)\n",
        "        images.append(img)\n",
        "\n",
        "    return images"
      ],
      "execution_count": 0,
      "outputs": []
    },
    {
      "cell_type": "code",
      "metadata": {
        "id": "ivMy7vpKPNDY",
        "colab_type": "code",
        "colab": {}
      },
      "source": [
        "def image_to_feature_vector(image, size):\n",
        "\t# resize the image to a fixed size, then flatten the image into\n",
        "\t# a list of raw pixel intensities\n",
        "\treturn cv2.resize(image, size).flatten()"
      ],
      "execution_count": 0,
      "outputs": []
    },
    {
      "cell_type": "code",
      "metadata": {
        "id": "aQuAl6bTLQa0",
        "colab_type": "code",
        "colab": {}
      },
      "source": [
        "def histogram(image, bin):\n",
        "    bins = []\n",
        "    width = int(256/bin)\n",
        "\n",
        "    for low in range(0, bin * width, width):\n",
        "        bins.append((low, low+width))\n",
        "\n",
        "    hist = np.zeros(bin).astype('int32')\n",
        "    image = image_to_feature_vector(image, (64, 64)).tolist()\n",
        "\n",
        "    for value in image:\n",
        "        for i in range(0, len(bins)):\n",
        "            if (bins[i][0] <= value < bins[i][1]):\n",
        "                hist[i] += 1\n",
        "    \n",
        "    '''\n",
        "    plt.figure(figsize=(12,4))\n",
        "    index = np.arange(bin)\n",
        "    plt.bar(index, hist)\n",
        "    #plt.xlabel('Genre', fontsize=5)\n",
        "    #plt.ylabel('No of Movies', fontsize=5)\n",
        "    plt.xticks(index)\n",
        "    plt.show()\n",
        "    '''\n",
        "    return hist\n",
        "    \n",
        "    '''\n",
        "    hist = img.flatten().tolist()\n",
        "    grayscales  = np.unique(hist)\n",
        "    frequencies = [hist.count(x) for x in grayscales]\n",
        "    \n",
        "    plt.figure(figsize=(12,4))\n",
        "    #plt.bar(grayscales,frequencies,color='g')\n",
        "    index = np.arange(bin)\n",
        "    plt.bar(index, frequencies, color='g')\n",
        "    #plt.hist(hist, density=True, bins=bin)\n",
        "    #plt.show()\n",
        "\n",
        "    '''\n",
        "    '''\n",
        "    hist = np.zeros(bin).astype('int32')\n",
        "    binindices = (np.round((bin * img)/255)).astype('int64')\n",
        "    for i in binindices:\n",
        "        hist[i] += 1\n",
        "    \n",
        "    #plt.figure(figsize=(12,4))\n",
        "    index = np.arange(bin)\n",
        "    plt.bar(index, height = hist)\n",
        "    #plt.xlabel('Genre', fontsize=5)\n",
        "    #plt.ylabel('No of Movies', fontsize=5)\n",
        "    plt.xticks(index)\n",
        "    plt.show()'''"
      ],
      "execution_count": 0,
      "outputs": []
    },
    {
      "cell_type": "code",
      "metadata": {
        "id": "7A7dK6V7z1aG",
        "colab_type": "code",
        "colab": {}
      },
      "source": [
        "def color_histogram(img, bin):\n",
        "    chans = cv2.split(img)\n",
        "    colors = (\"b\", \"g\", \"r\")\n",
        "\n",
        "    features = []\n",
        "   \n",
        "    index = np.arange(bin)\n",
        "\n",
        "    for (chan, color) in zip(chans, colors):\n",
        "        hist = histogram(chan, bin)\n",
        "        features.extend(hist)\n",
        "        plt.figure(figsize=(12,4))\n",
        "        plt.bar(index, hist)\n",
        "        plt.plot(hist, color = color)"
      ],
      "execution_count": 0,
      "outputs": []
    },
    {
      "cell_type": "code",
      "metadata": {
        "id": "k25Sm1YNUhz3",
        "colab_type": "code",
        "colab": {}
      },
      "source": [
        "def split_image_into_grids(image, grid, i):\n",
        "    \n",
        "    image = cv2.resize(image, (256, 256))\n",
        "\n",
        "    height=image.shape[0]\n",
        "    width=image.shape[1]\n",
        "\n",
        "    y1 = 0\n",
        "    M = height//grid\n",
        "    N = width//grid\n",
        "\n",
        "    for y in range(0, height, M):\n",
        "        for x in range(0, width, N):\n",
        "            y1 = y + M\n",
        "            x1 = x + N\n",
        "            tiles = image[y:y+M, x:x+N]\n",
        "\n",
        "            #cv2.rectangle(image, (x, y), (x1, y1), (0, 255, 0))\n",
        "\n",
        "            os.chdir(\"/content/drive/My Drive/SaveDeneme\")\n",
        "            cv2.imwrite(\"im\" + str(i) + '_' + str(x) + '_' + str(y)+\".png\",tiles)\n",
        "    #cv2.imwrite(\"asas.png\",image)        "
      ],
      "execution_count": 0,
      "outputs": []
    },
    {
      "cell_type": "code",
      "metadata": {
        "id": "IHvhBr049Ouu",
        "colab_type": "code",
        "colab": {}
      },
      "source": [
        "if __name__ == \"__main__\":\n",
        "\n",
        "    image_path = \"/content/drive/My Drive/CNG483-Assign1-Dataset\"\n",
        "\n",
        "    images = read_images(image_path)\n",
        "    j = 1\n",
        "    for i in images:\n",
        "        gray = cv2.cvtColor(i, cv2.COLOR_BGR2GRAY)\n",
        "        #histogram(gray, 4)\n",
        "        #color_histogram(i, 128)\n",
        "        split_image_into_grids(i, 2, j)\n",
        "        j +=1\n",
        "        '''\n",
        "        gray = gray.flatten().tolist()\n",
        "        plt.figure(figsize=(12,4))\n",
        "        plt.hist(gray, bins=4)\n",
        "        plt.show()\n",
        "        '''"
      ],
      "execution_count": 0,
      "outputs": []
    }
  ]
}